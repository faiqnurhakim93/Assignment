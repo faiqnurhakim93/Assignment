{
  "nbformat": 4,
  "nbformat_minor": 0,
  "metadata": {
    "colab": {
      "name": "Python Programming Assignment 1.ipynb",
      "provenance": [],
      "authorship_tag": "ABX9TyP8d1POzoIBv1y3lwz/u7mR",
      "include_colab_link": true
    },
    "kernelspec": {
      "name": "python3",
      "display_name": "Python 3"
    },
    "language_info": {
      "name": "python"
    }
  },
  "cells": [
    {
      "cell_type": "markdown",
      "metadata": {
        "id": "view-in-github",
        "colab_type": "text"
      },
      "source": [
        "<a href=\"https://colab.research.google.com/github/faiqnurhakim93/Assignment/blob/main/Python_Programming_Assignment_1.ipynb\" target=\"_parent\"><img src=\"https://colab.research.google.com/assets/colab-badge.svg\" alt=\"Open In Colab\"/></a>"
      ]
    },
    {
      "cell_type": "code",
      "metadata": {
        "colab": {
          "base_uri": "https://localhost:8080/"
        },
        "id": "sT8pkL7KTB9E",
        "outputId": "f57bbad8-fc34-48f2-f77e-5b17c26f400f"
      },
      "source": [
        "# 1. Write a Python program to print 'Hello Python'?\n",
        "\n",
        "print('Hello Python')"
      ],
      "execution_count": 1,
      "outputs": [
        {
          "output_type": "stream",
          "name": "stdout",
          "text": [
            "Hello Python\n"
          ]
        }
      ]
    },
    {
      "cell_type": "code",
      "metadata": {
        "colab": {
          "base_uri": "https://localhost:8080/"
        },
        "id": "3wFKbuubTW-L",
        "outputId": "8135fb12-75d3-4096-9110-7a7783d62092"
      },
      "source": [
        "# 2. Write a Python program to do arithmetical operations addition and division.?\n",
        "\n",
        "a = 3\n",
        "b = 4\n",
        "\n",
        "a + b, a/b\n"
      ],
      "execution_count": 2,
      "outputs": [
        {
          "output_type": "execute_result",
          "data": {
            "text/plain": [
              "(7, 0.75)"
            ]
          },
          "metadata": {},
          "execution_count": 2
        }
      ]
    },
    {
      "cell_type": "code",
      "metadata": {
        "id": "x0DBd0nkTkrY"
      },
      "source": [
        "# 3. Write a Python program to find the area of a triangle?\n",
        "\n",
        "def triangle (a,b): \n",
        "  return (a*b)/2"
      ],
      "execution_count": 3,
      "outputs": []
    },
    {
      "cell_type": "code",
      "metadata": {
        "colab": {
          "base_uri": "https://localhost:8080/"
        },
        "id": "FvlWc54YUWOy",
        "outputId": "17c51351-b0a2-415b-fe83-7fd9fe3ab79c"
      },
      "source": [
        "triangle(2,2)"
      ],
      "execution_count": 4,
      "outputs": [
        {
          "output_type": "execute_result",
          "data": {
            "text/plain": [
              "2.0"
            ]
          },
          "metadata": {},
          "execution_count": 4
        }
      ]
    },
    {
      "cell_type": "code",
      "metadata": {
        "colab": {
          "base_uri": "https://localhost:8080/"
        },
        "id": "eL8Ijnq1UZWb",
        "outputId": "ca555b62-d7b4-40df-9058-61716cf240b8"
      },
      "source": [
        "# 4. Write a Python program to swap two variables?\n",
        "\n",
        "c = 4\n",
        "d = 5\n",
        "\n",
        "c, d = d, c\n",
        "\n",
        "print (d)\n",
        "print (c)"
      ],
      "execution_count": 5,
      "outputs": [
        {
          "output_type": "stream",
          "name": "stdout",
          "text": [
            "4\n",
            "5\n"
          ]
        }
      ]
    },
    {
      "cell_type": "code",
      "metadata": {
        "colab": {
          "base_uri": "https://localhost:8080/"
        },
        "id": "iE0c4sp_U5N5",
        "outputId": "3ffd9f04-73e8-437e-8992-9cd38f7c1da1"
      },
      "source": [
        "# 5. Write a Python program to generate a random number?\n",
        "\n",
        "import random\n",
        "\n",
        "print(random.randrange(10))"
      ],
      "execution_count": 11,
      "outputs": [
        {
          "output_type": "stream",
          "name": "stdout",
          "text": [
            "0\n"
          ]
        }
      ]
    },
    {
      "cell_type": "code",
      "metadata": {
        "id": "yCOMS75hVERa"
      },
      "source": [
        ""
      ],
      "execution_count": null,
      "outputs": []
    }
  ]
}